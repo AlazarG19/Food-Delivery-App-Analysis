{
 "cells": [
  {
   "cell_type": "markdown",
   "id": "869d4d29",
   "metadata": {
    "deletable": false,
    "editable": false,
    "run_control": {
     "frozen": true
    }
   },
   "source": [
    "## Food Delivery App Data Analysis\n",
    "Millions of food enthusiasts use the Zomato platform to order food and our main goal is to clean and to prepare the zomato dataset in order to draw insights. Through this analysis we plan on deciphering what makes a restaurant shine, identifying trends in dining preferences and uncovering the secrets behind customer choices.\n",
    "\n",
    "Our work enhances the Zomato experience for users and restaurant owners alike. Our insights help restaurants refine their offerings, and diners discover the perfect place to satisfy their cravings."
   ]
  }
 ],
 "metadata": {
  "kernelspec": {
   "display_name": "Python 3 (ipykernel)",
   "language": "python",
   "name": "python3"
  },
  "language_info": {
   "codemirror_mode": {
    "name": "ipython",
    "version": 3
   },
   "file_extension": ".py",
   "mimetype": "text/x-python",
   "name": "python",
   "nbconvert_exporter": "python",
   "pygments_lexer": "ipython3",
   "version": "3.10.6"
  }
 },
 "nbformat": 4,
 "nbformat_minor": 5
}
