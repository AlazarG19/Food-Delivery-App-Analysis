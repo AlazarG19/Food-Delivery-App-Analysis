{
 "cells": [
  {
   "cell_type": "markdown",
   "id": "869d4d29",
   "metadata": {
    "deletable": false,
    "editable": false,
    "run_control": {
     "frozen": true
    }
   },
   "source": [
    "## Food Delivery App Data Analysis\n",
    "In the world of culinary delights and gastronomic adventures, the Zomato dataset project takes center stage. Just as millions of food enthusiasts use the Zomato platform to satisfy their culinary cravings, you step into the role of a data maestro, ready to unlock the secrets hidden within this treasure trove of information.\n",
    "\n",
    "Your journey in this project begins with a task as vital as preparing the finest ingredients for a gourmet meal—cleaning the dataset. Much like a skilled chef ensuring that every component is pristine and ready for the culinary masterpiece, you meticulously clean and prepare the data. It's about setting the stage for a culinary data symphony.\n",
    "\n",
    "Once the dataset is impeccably prepped, you delve into the heart of this gastronomic world—the analysis. You become the culinary critic of data, deciphering what makes a restaurant shine, identifying trends in dining preferences, and uncovering the secrets behind customer choices. It's about distilling raw data into flavorful insights.\n",
    "\n",
    "As the project unfolds, you become the unsung hero behind the scenes. Just like in a bustling kitchen where chefs work tirelessly to create unforgettable dishes, your work enhances the Zomato experience for users and restaurant owners alike. Your insights help restaurants refine their offerings, and diners discover the perfect place to satisfy their cravings.\n",
    "\n",
    "In this world of data-driven gastronomy, you are the master chef, the data virtuoso, and the storyteller. Your dedication to cleaning, analyzing, and visualizing the Zomato dataset contributes to the magic of discovering new culinary delights and makes every dining experience that much more extraordinary."
   ]
  },
  {
   "cell_type": "markdown",
   "id": "456dff4e",
   "metadata": {
    "deletable": false,
    "editable": false,
    "run_control": {
     "frozen": true
    }
   },
   "source": [
    "## Module 1\n",
    "### Task 1: Unlocking Zomato's Flavorful Universe\n",
    "Within the vast Zomato dataset, we hold the keys to a flavorful universe. With hotel names, addresses, ratings, and more at our fingertips, our culinary odyssey is in full swing. Each data point is a hidden gem, guiding us to uncover the secrets of exceptional dining. We aim to unearth patterns, fuel innovation, and inspire future culinary endeavors. Beyond data analysis, it's a journey to enhance the world's dining experiences, one bite at a time. Join us as we explore the flavors that will shape the future of food."
   ]
  },
  {
   "cell_type": "code",
   "execution_count": null,
   "id": "2839cc0e",
   "metadata": {},
   "outputs": [],
   "source": [
    "#--- Import Pandas ---\n",
    "\n",
    "#--- Read in dataset ----\n",
    "df = ...\n",
    "\n",
    "# ---WRITE YOUR CODE FOR TASK 1 ---\n",
    "#--- Inspect data ---"
   ]
  },
  {
   "cell_type": "markdown",
   "id": "9130851c",
   "metadata": {
    "deletable": false,
    "editable": false,
    "run_control": {
     "frozen": true
    }
   },
   "source": [
    "### Task 2: Refining Zomato's Data Galaxy\n",
    "Our voyage through the Zomato dataset is an expedition into the world of flavors. Armed with rich information about restaurants, locations, and ratings, we're on a quest to decode the secrets of exceptional dining. With this data in hand, we're set to uncover patterns, ignite innovation, and inspire future culinary journeys. Beyond mere data manipulation, this mission aims to enhance dining experiences worldwide.\n"
   ]
  },
  {
   "cell_type": "code",
   "execution_count": null,
   "id": "8ddf8657",
   "metadata": {},
   "outputs": [],
   "source": [
    "#--- WRITE YOUR CODE FOR TASK 2 ---\n",
    "#df = ...\n",
    "\n",
    "#--- Inspect data ---"
   ]
  },
  {
   "cell_type": "markdown",
   "id": "d4a0b95d",
   "metadata": {
    "deletable": false,
    "editable": false,
    "run_control": {
     "frozen": true
    }
   },
   "source": [
    "### Task 3: Data Crafting\n",
    "Our task with the Zomato dataset isn't just data management; it's a quest to reveal the secrets of extraordinary dining. By addressing missing values and refining our data, we aim to extract meaningful patterns that can guide diners and inspire restaurateurs. Each data point represents a potential key to unlocking the mysteries of culinary excellence, enriching the world's dining experiences one insight at a time"
   ]
  },
  {
   "cell_type": "code",
   "execution_count": null,
   "id": "74cf4908",
   "metadata": {},
   "outputs": [],
   "source": [
    "#--- WRITE YOUR CODE FOR TASK 3 ---\n",
    "#df = ...\n",
    "\n",
    "# deleting null values of name column\n",
    "\n",
    "# handling null values of online_order\n",
    "\n",
    "# changing null values of book_table\n",
    "\n",
    "# changing null values of rating to zero as it is a numerical datatype\n",
    "\n",
    "# changing null values of votes to zero as it is a numerical datatype\n",
    "\n",
    "# changing null values of location to NA\n",
    "\n",
    "# changing null values of rest_type to NA\n",
    "\n",
    "# changing null values of dishliked to NA\n",
    "\n",
    "# changing null values of cuisines to NA\n",
    "\n",
    "# changing null values of approxcost to 0 as it is a numerical value\n",
    "\n",
    "# changing null values of type to NA\n",
    "\n",
    "#--- Inspect data ---"
   ]
  },
  {
   "cell_type": "markdown",
   "id": "d3edcd36",
   "metadata": {
    "deletable": false,
    "editable": false,
    "run_control": {
     "frozen": true
    }
   },
   "source": [
    "### Task 4: Purifying Zomato's Culinary Canvas.\n",
    "Our exploration of the Zomato dataset continues as we embark on a mission to eliminate duplicates. Just as astronomers seek clarity in the night sky, we strive for a clearer understanding of the culinary world. By removing redundancy, we refine our data, ensuring that each restaurant shines uniquely, guiding us toward the essence of exceptional dining."
   ]
  },
  {
   "cell_type": "code",
   "execution_count": null,
   "id": "8abedc06",
   "metadata": {},
   "outputs": [],
   "source": [
    "#--- WRITE YOUR CODE FOR TASK 4 ---\n",
    "#df = ...\n",
    "# droping the duplicates value keeping the first\n",
    "\n",
    "#--- Inspect data ---"
   ]
  },
  {
   "cell_type": "markdown",
   "id": "ef82fdf4",
   "metadata": {
    "deletable": false,
    "editable": false,
    "run_control": {
     "frozen": true
    }
   },
   "source": [
    "### Task 5: Refining Zomato's Culinary Palette.\n",
    "In our ongoing quest through the Zomato dataset, we've now set our sights on refining the data even further. We're on a mission to eliminate any traces of 'RATED' or 'Rated' from multiple columns, ensuring that our data reflects the unadulterated essence of dining experiences.\n",
    "\n",
    "This isn't just about filtering out words; it's about revealing the authentic flavors that restaurants offer. By removing any misleading elements, we're peeling back the layers to expose the true gems of the culinary world."
   ]
  },
  {
   "cell_type": "code",
   "execution_count": null,
   "id": "d3415100",
   "metadata": {},
   "outputs": [],
   "source": [
    "#--- WRITE YOUR CODE FOR TASK 5 ---\n",
    "#df = ...\n",
    "# Remove rows in 'df' where any of the specific columns contain 'RATED' or 'Rated'\n",
    "\n",
    "#--- Inspect data ---"
   ]
  },
  {
   "cell_type": "markdown",
   "id": "ffb92663",
   "metadata": {
    "deletable": false,
    "editable": false,
    "run_control": {
     "frozen": true
    }
   },
   "source": [
    "### Task 6: Clarifying Zomato's Culinary Data.\n",
    "Our exploration of the Zomato dataset ventures into the heart of dining experiences. This meticulous data transformation isn't just about numbers; it's about crafting a narrative that empowers diners to make informed choices and restaurants to showcase their true ratings. With each step, we're painting a clearer picture of Zomato's culinary universe, where every detail plays a role in enhancing dining experiences. Our journey continues, guided by the pursuit of culinary clarity and authenticity."
   ]
  },
  {
   "cell_type": "code",
   "execution_count": null,
   "id": "9a0f9312",
   "metadata": {},
   "outputs": [],
   "source": [
    "#--- WRITE YOUR CODE FOR TASK 6 ---\n",
    "#df = ...\n",
    "# online order table should have only yes and no, remove other values\n",
    "\n",
    "# check for rating table and replace NEW,- values to 0 and remove /5\n",
    "\n",
    "#--- Inspect data ---"
   ]
  },
  {
   "cell_type": "markdown",
   "id": "c52307ed",
   "metadata": {
    "deletable": false,
    "editable": false,
    "run_control": {
     "frozen": true
    }
   },
   "source": [
    "### Task 7: Crafting the Zomato Masterpiece.\n",
    "In our ongoing journey through the Zomato dataset, we've reached the pinnacle of data refinement. By skillfully applying regular expressions, we've meticulously polished the restaurant names, removing any extraneous characters that may have marred their authenticity. Now, with the data in its purest form, we preserve our culinary masterpiece by saving it to 'zomatocleaned.csv.' Every line and entry in this dataset reflects the true essence of dining experiences, a testament to our commitment to precision in the culinary world. Our mission continues, with a refined dataset poised to enhance the way we explore and savor the world of food."
   ]
  },
  {
   "cell_type": "code",
   "execution_count": null,
   "id": "70467dbd",
   "metadata": {},
   "outputs": [],
   "source": [
    "#--- WRITE YOUR CODE FOR TASK 7 ---\n",
    "#df = ...\n",
    "# remove unknown character from dataset\n",
    "# Export the dataset with following code\n",
    "# df.to_csv('zomatocleaned.csv', index = False)\n",
    "\n",
    "#--- Inspect data ---"
   ]
  },
  {
   "cell_type": "markdown",
   "id": "bdc2babd",
   "metadata": {},
   "source": [
    "### Task 8: Data Download, Import, and Database Connection."
   ]
  },
  {
   "cell_type": "code",
   "execution_count": null,
   "id": "268e2939",
   "metadata": {},
   "outputs": [],
   "source": [
    "# -- Load the sql extention ----\n",
    "%load_ext sql\n",
    "\n",
    "# --- Load your mysql db using credentials from the \"DB\" area ---\n",
    "%sql mysql+pymysql://<user>:<password>@localhost/<db_name>"
   ]
  },
  {
   "cell_type": "markdown",
   "id": "d1a8243f",
   "metadata": {
    "deletable": false,
    "editable": false,
    "run_control": {
     "frozen": true
    }
   },
   "source": [
    "## Module 2\n",
    "### Task 1: The Top 5 Culinary Champions in the Delivery World\n",
    "Our exploration of Zomato's culinary galaxy brings us to the exciting world of food delivery. With a carefully crafted SQL query, we've identified the top 5 culinary champions in the 'Delivery' category, selecting their names, votes, and ratings. These restaurants have earned their place by delighting diners and consistently delivering exceptional flavors to their doorstep. Join us as we celebrate these culinary stars who have mastered the art of delivering not just meals but memorable dining experiences to food enthusiasts everywhere."
   ]
  },
  {
   "cell_type": "code",
   "execution_count": null,
   "id": "be85c3ea",
   "metadata": {},
   "outputs": [],
   "source": [
    "'''%%sql\n",
    "<your-query>'''"
   ]
  },
  {
   "cell_type": "markdown",
   "id": "efd8a8e7",
   "metadata": {
    "deletable": false,
    "editable": false,
    "run_control": {
     "frozen": true
    }
   },
   "source": [
    "### Task 2: Banashankari's Flavorful Finest: Top 5 Delivery Delights.\n",
    "Our Zomato journey lands us in Banashankari, a neighborhood alive with culinary treasures and the convenience of food delivery. With a finely-tuned SQL query, we've unearthed the top 5 dining gems in this locale, known for both their exceptional ratings and delivery prowess.\n",
    "\n",
    "These restaurants, carefully chosen based on name, rating, location, and type, are the epitome of culinary excellence in Banashankari. With ratings in descending order, they promise not just meals but exquisite dining experiences brought straight to your door."
   ]
  },
  {
   "cell_type": "code",
   "execution_count": null,
   "id": "0efe6d58",
   "metadata": {},
   "outputs": [],
   "source": [
    "'''%%sql\n",
    "<your-query>'''"
   ]
  },
  {
   "cell_type": "markdown",
   "id": "3f6796f0",
   "metadata": {
    "deletable": false,
    "editable": false,
    "run_control": {
     "frozen": true
    }
   },
   "source": [
    "### Task 3: Exploring Culinary Extremes in Indiranagar.\n",
    "Our Zomato expedition now takes us to the vibrant neighborhood of Indiranagar, where we aim to uncover the culinary spectrum from affordable to luxurious. With a series of precise SQL queries, we embark on this journey.\n",
    "\n",
    "First, we set @mincost to capture the rating of the restaurant offering the most budget-friendly dining experience in Indiranagar. Then, we identify @maxcost to represent the rating of the restaurant with the highest-priced offerings."
   ]
  },
  {
   "cell_type": "code",
   "execution_count": null,
   "id": "8051d640",
   "metadata": {},
   "outputs": [],
   "source": [
    "'''%%sql\n",
    "<your-query>'''"
   ]
  },
  {
   "cell_type": "markdown",
   "id": "951df559",
   "metadata": {
    "deletable": false,
    "editable": false,
    "run_control": {
     "frozen": true
    }
   },
   "source": [
    "### Task 4: Online Orders and the Pulse of Public Opinion.\n",
    "Our exploration of Zomato's culinary dataset now turns its focus to the world of online ordering. This phase of our journey delves into the choices diners make when it comes to ordering food digitally.\n",
    "\n",
    "With data analysis as our guide, we seek to uncover the nuances and trends in dining preferences. By grouping and categorizing restaurants based on their online order availability, we gain insights into how this convenience impacts the culinary landscape."
   ]
  },
  {
   "cell_type": "code",
   "execution_count": null,
   "id": "f19f1a55",
   "metadata": {},
   "outputs": [],
   "source": [
    "'''%%sql\n",
    "<your-query>'''"
   ]
  },
  {
   "cell_type": "markdown",
   "id": "060d46db",
   "metadata": {
    "deletable": false,
    "editable": false,
    "run_control": {
     "frozen": true
    }
   },
   "source": [
    "### Task 5: Exploring Restaurant Types and Their Impact.\n",
    "In our Zomato data journey, we're on a mission to unravel the diverse world of restaurant types and their influence on the dining landscape. With an insightful SQL query, we've embarked on a quest to understand the restaurant ecosystem.\n",
    "\n",
    "Our query provides a glimpse into this vibrant culinary tapestry by categorizing and counting restaurants based on their types. We're not just tallying numbers; we're shedding light on the sheer variety of dining experiences."
   ]
  },
  {
   "cell_type": "code",
   "execution_count": null,
   "id": "8e82c368",
   "metadata": {},
   "outputs": [],
   "source": [
    "'''%%sql\n",
    "<your-query>'''"
   ]
  },
  {
   "cell_type": "markdown",
   "id": "c8d065de",
   "metadata": {
    "deletable": false,
    "editable": false,
    "run_control": {
     "frozen": true
    }
   },
   "source": [
    "### Task 6: The Pinnacle of Online Dining.\n",
    "In our Zomato odyssey, we now turn our attention to the zenith of online dining experiences. With a precision-crafted SQL query, we are on a quest to unveil the crème de la crème of restaurant choices for those who prefer online orders.\n",
    "\n",
    "We've set the stage by selecting restaurants that not only offer online ordering ('Yes') but also boast the highest ratings. These are the dining establishments that have earned the utmost trust and admiration of diners in the digital realm."
   ]
  },
  {
   "cell_type": "code",
   "execution_count": null,
   "id": "bc81ca29",
   "metadata": {},
   "outputs": [],
   "source": [
    "'''%%sql\n",
    "<your-query>'''"
   ]
  },
  {
   "cell_type": "markdown",
   "id": "870947ca",
   "metadata": {
    "deletable": false,
    "editable": false,
    "run_control": {
     "frozen": true
    }
   },
   "source": [
    "### Task 7: Uncovering Local Flavors.\n",
    "Our journey through Zomato's vast culinary database takes us on a delightful detour, where we seek out the hidden gems that may not be as well-known but are cherished by discerning diners. With a meticulous SQL query, we're in pursuit of these lesser-known culinary treasures.\n",
    "\n",
    "We've set specific criteria—restaurants with ratings surpassing 3, receiving at least 150 votes, and offering no online ordering. These criteria ensure that we uncover dining establishments that have earned their reputation based on the merits of their cuisine and service."
   ]
  },
  {
   "cell_type": "code",
   "execution_count": null,
   "id": "2535db4d",
   "metadata": {},
   "outputs": [],
   "source": [
    "'''%%sql\n",
    "<your-query>'''"
   ]
  },
  {
   "cell_type": "code",
   "execution_count": null,
   "id": "9dbcfb48",
   "metadata": {},
   "outputs": [],
   "source": []
  }
 ],
 "metadata": {
  "kernelspec": {
   "display_name": "Python 3 (ipykernel)",
   "language": "python",
   "name": "python3"
  },
  "language_info": {
   "codemirror_mode": {
    "name": "ipython",
    "version": 3
   },
   "file_extension": ".py",
   "mimetype": "text/x-python",
   "name": "python",
   "nbconvert_exporter": "python",
   "pygments_lexer": "ipython3",
   "version": "3.11.5"
  }
 },
 "nbformat": 4,
 "nbformat_minor": 5
}
